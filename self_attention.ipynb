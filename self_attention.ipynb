{
 "cells": [
  {
   "cell_type": "code",
   "execution_count": 19,
   "id": "d82a36ff",
   "metadata": {},
   "outputs": [],
   "source": [
    "import torch\n",
    "import torch.nn as nn\n",
    "import torch.nn.functional as F\n",
    "import math "
   ]
  },
  {
   "cell_type": "markdown",
   "id": "f58ecb4b",
   "metadata": {},
   "source": [
    "# Attention 模块的输入和输出是什么，关键的参数有哪些？\n",
    "## 输入维度 d_model\n",
    "输入的向量维度，\n",
    "## 输出的的维度，也就是q,k,v的大小\n",
    "q,k,v大小，要将输入的维度d_model转换成多少维度，如果是多头的话，那就是 head * size（比如128*56）\n",
    "## 参数，Wq，Wk，Wv\n",
    "参数在模型结构中，只需要关注大小和初始化\n",
    "torch.nn.Parameter 和 torch.randn 有本质区别，对于模型参数必须使用 torch.nn.Parameter\n"
   ]
  },
  {
   "cell_type": "code",
   "execution_count": 21,
   "id": "2ee0e60f",
   "metadata": {},
   "outputs": [],
   "source": [
    "\n",
    "\n",
    "class SelfAttention(nn.Module):\n",
    "    \n",
    "    def __init__(self, d_model, d_out):\n",
    "        super(SelfAttention, self).__init__()\n",
    "        self.d_model = d_model\n",
    "        self.d_out = d_out\n",
    "        self.W_q = torch.nn.Parameter(torch.randn(d_model, d_out))\n",
    "        #self.W_q = torch.nn.Linear(d_model, d_out, bias=False).weight # Linear layer是 nn 的基础组件，直接当矩阵来用也是可以的，只是需要把 bias 去掉，\n",
    "        self.W_k = torch.nn.Parameter(torch.randn(d_model, d_out))\n",
    "        self.W_v = torch.nn.Parameter(torch.randn(d_model, d_out))\n",
    "\n",
    "\n",
    "    def forward(self, input):\n",
    "        q = torch.matmul(input, self.W_q)\n",
    "        k = torch.matmul(input, self.W_k)\n",
    "        v = torch.matmul(input, self.W_v)\n",
    "        attn_scores = torch.matmul(q, k.T) / (self.d_model ** 0.5)\n",
    "        attn_weights = F.softmax(attn_scores, dim=-1)\n",
    "        output = torch.matmul(attn_weights, v)\n",
    "        return output\n",
    "\n"
   ]
  },
  {
   "cell_type": "code",
   "execution_count": 22,
   "id": "277e907a",
   "metadata": {},
   "outputs": [
    {
     "data": {
      "text/plain": [
       "tensor([[-0.8005, -1.4133, -0.5584, -0.0384],\n",
       "        [-0.2368,  0.1479, -1.8579,  0.1989],\n",
       "        [ 0.3247, -0.1453, -1.5111, -0.1312]])"
      ]
     },
     "execution_count": 22,
     "metadata": {},
     "output_type": "execute_result"
    }
   ],
   "source": [
    "atten = SelfAttention(d_model=4, d_out=4)\n",
    "input = torch.randn(3,4)\n",
    "input"
   ]
  },
  {
   "cell_type": "code",
   "execution_count": 23,
   "id": "9f98249e",
   "metadata": {},
   "outputs": [
    {
     "data": {
      "text/plain": [
       "tensor([[-0.5675,  0.5820,  0.3099,  0.0855],\n",
       "        [-0.3227,  0.5517, -0.5577,  0.1724],\n",
       "        [-0.2842,  0.5550, -0.6964,  0.2047]], grad_fn=<MmBackward0>)"
      ]
     },
     "execution_count": 23,
     "metadata": {},
     "output_type": "execute_result"
    }
   ],
   "source": [
    "\n",
    "output = atten(input)\n",
    "output"
   ]
  }
 ],
 "metadata": {
  "kernelspec": {
   "display_name": "index-tts",
   "language": "python",
   "name": "python3"
  },
  "language_info": {
   "codemirror_mode": {
    "name": "ipython",
    "version": 3
   },
   "file_extension": ".py",
   "mimetype": "text/x-python",
   "name": "python",
   "nbconvert_exporter": "python",
   "pygments_lexer": "ipython3",
   "version": "3.10.18"
  }
 },
 "nbformat": 4,
 "nbformat_minor": 5
}
